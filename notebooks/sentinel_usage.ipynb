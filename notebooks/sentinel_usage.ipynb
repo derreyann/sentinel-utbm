{
 "cells": [
  {
   "cell_type": "markdown",
   "metadata": {},
   "source": [
    "### Imports"
   ]
  },
  {
   "cell_type": "code",
   "execution_count": 6,
   "metadata": {},
   "outputs": [],
   "source": [
    "import os\n",
    "import sys\n",
    "sys.path.append('../scripts')\n",
    "\n",
    "from math import radians, sin, cos, sqrt, atan2\n",
    "import sentinel, evalscripts\n",
    "import matplotlib.pyplot as plt\n",
    "import numpy as np\n",
    "from geopy.distance import distance\n",
    "from geopy.point import Point\n",
    "import yaml\n",
    "\n",
    "from sentinelhub import (\n",
    "    CRS,\n",
    "    BBox,\n",
    "    bbox_to_dimensions,\n",
    "    SHConfig\n",
    ")\n",
    "%reload_ext autoreload\n",
    "%autoreload 2\n",
    "%matplotlib inline"
   ]
  },
  {
   "cell_type": "markdown",
   "metadata": {},
   "source": [
    "Creditential"
   ]
  },
  {
   "cell_type": "code",
   "execution_count": 2,
   "metadata": {},
   "outputs": [],
   "source": [
    "# Fetch credentials for modis\n",
    "with open(\"../config.yaml\") as file:\n",
    "    credentials = yaml.safe_load(file)\n",
    "user = credentials[\"sentinelhub\"][\"API_USER\"]\n",
    "password = credentials[\"sentinelhub\"][\"API_PASSWORD\"]\n",
    "\n",
    "config = SHConfig(\n",
    "    sh_client_id = user,\n",
    "    sh_client_secret = password\n",
    ")\n",
    "\n",
    "if not config.sh_client_id or not config.sh_client_secret:\n",
    "    print(\"Warning! To use Process API, please provide the credentials (OAuth client ID and client secret).\")\n"
   ]
  },
  {
   "cell_type": "markdown",
   "metadata": {},
   "source": [
    "### Setup"
   ]
  },
  {
   "cell_type": "code",
   "execution_count": 3,
   "metadata": {},
   "outputs": [],
   "source": [
    "# Bounding box coordinates (you can use http://bboxfinder.com/ to find the coordinates of your desired bounding box)\n",
    "#(-124.45976373769807,48.62786844842075,-115.12341739786068,53.51536369187604)\n",
    "lon_min = -124.45976373769807\n",
    "lat_min = 48.62786844842075\n",
    "lon_max = -115.12341739786068\n",
    "lat_max = 53.51536369187604\n",
    "\n",
    "#Desired spacing in kilometers between each image\n",
    "spacing_km = 100\n",
    "\n",
    "#Desired resolution of each image\n",
    "resolution = 300\n",
    "\n",
    "start_date = \"2021-06-29\"\n",
    "end_date = \"2021-08-30\"\n",
    "\n",
    "sentinel_request_dir = \"../data/sentinel/request\"\n",
    "sentinel_tiff_dir = \"../data/sentinel/tiff\"\n",
    "sentinel_merge_dir = \"../data/sentinel/merge\""
   ]
  },
  {
   "cell_type": "markdown",
   "metadata": {},
   "source": [
    "### Get points and bbox for the selected area"
   ]
  },
  {
   "cell_type": "code",
   "execution_count": 4,
   "metadata": {},
   "outputs": [],
   "source": [
    "points, max_points_in_line, num_lines, points_per_line = sentinel.generate_grid_within_box(lat_min, lon_min, lat_max, lon_max, spacing_km)\n",
    "points = [(y, x) for x, y in points]\n",
    "\n",
    "aoi_bbox_list = []\n",
    "for point in points:\n",
    "    aoi_coords_wgs842 = sentinel.boundingBox(point[0],point[1],spacing_km/2)\n",
    "    aoi_bbox_list.append(BBox(bbox=aoi_coords_wgs842, crs=CRS.WGS84))\n",
    "\n",
    "aoi_size = bbox_to_dimensions(aoi_bbox_list[0], resolution=resolution)"
   ]
  },
  {
   "cell_type": "markdown",
   "metadata": {},
   "source": [
    "## Print informations"
   ]
  },
  {
   "cell_type": "code",
   "execution_count": null,
   "metadata": {},
   "outputs": [],
   "source": [
    "print(\"Number of points per line: \", max_points_in_line)\n",
    "print(\"Number of lines: \", num_lines)\n",
    "print(\"Total number of points generated: \", len(points))\n",
    "print(\"List of number of points per line: \", points_per_line)\n",
    "print(f\"Image shape at {resolution} m resolution: {aoi_size} pixels\")"
   ]
  },
  {
   "cell_type": "markdown",
   "metadata": {},
   "source": [
    "## Get data"
   ]
  },
  {
   "cell_type": "code",
   "execution_count": null,
   "metadata": {},
   "outputs": [],
   "source": [
    "#You can chose your evalscript here between evalscript_ndvi, evalscript_ndvi2 and evalscript_CloudFree_Composite:\n",
    "evalscript = evalscripts.evalscript_ndvi\n",
    "\n",
    "ndvi_img_list = []\n",
    "for aoi_bbox in aoi_bbox_list:\n",
    "    ndvi_img = sentinel.get_ndvi_img(aoi_bbox,aoi_size,sentinel_request_dir,start_date,end_date,evalscript,config)\n",
    "    ndvi_img_list.append(ndvi_img)"
   ]
  },
  {
   "cell_type": "markdown",
   "metadata": {},
   "source": [
    "### Concatenation in a tiff file"
   ]
  },
  {
   "cell_type": "code",
   "execution_count": null,
   "metadata": {},
   "outputs": [],
   "source": [
    "sentinel.concatenate_tiff_images(sentinel_request_dir,sentinel_tiff_dir, sentinel_merge_dir)\n",
    " "
   ]
  },
  {
   "cell_type": "code",
   "execution_count": 7,
   "metadata": {},
   "outputs": [
    {
     "data": {
      "text/plain": [
       "'../data/sentinel/merge\\\\merged_image_14.tiff'"
      ]
     },
     "execution_count": 7,
     "metadata": {},
     "output_type": "execute_result"
    }
   ],
   "source": [
    "sentinel.create_stitched_image(lat_min, lon_min, lat_max, lon_max, spacing_km, start_date, end_date, evalscripts.evalscript_ndvi, config, sentinel_request_dir, sentinel_tiff_dir, sentinel_merge_dir)"
   ]
  }
 ],
 "metadata": {
  "kernelspec": {
   "display_name": "sentinel-utbm-2H4QEkUg-py3.12",
   "language": "python",
   "name": "python3"
  },
  "language_info": {
   "codemirror_mode": {
    "name": "ipython",
    "version": 3
   },
   "file_extension": ".py",
   "mimetype": "text/x-python",
   "name": "python",
   "nbconvert_exporter": "python",
   "pygments_lexer": "ipython3",
   "version": "3.11.7"
  }
 },
 "nbformat": 4,
 "nbformat_minor": 2
}
