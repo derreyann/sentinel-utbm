{
 "cells": [
  {
   "cell_type": "markdown",
   "metadata": {},
   "source": [
    "### Imports"
   ]
  },
  {
   "cell_type": "code",
   "execution_count": 31,
   "metadata": {},
   "outputs": [],
   "source": [
    "import os\n",
    "import sys\n",
    "\n",
    "sys.path.append(\"../scripts\")\n",
    "\n",
    "from math import radians, sin, cos, sqrt, atan2\n",
    "import sentinel, evalscripts\n",
    "import matplotlib.pyplot as plt\n",
    "import numpy as np\n",
    "from geopy.distance import distance\n",
    "from geopy.point import Point\n",
    "import yaml\n",
    "\n",
    "from sentinelhub import CRS, BBox, bbox_to_dimensions, SHConfig\n",
    "\n",
    "%reload_ext autoreload\n",
    "%autoreload 2\n",
    "%matplotlib inline"
   ]
  },
  {
   "cell_type": "markdown",
   "metadata": {},
   "source": [
    "Creditential"
   ]
  },
  {
   "cell_type": "code",
   "execution_count": 32,
   "metadata": {},
   "outputs": [],
   "source": [
    "# Fetch credentials for modis\n",
    "with open(\"../config.yaml\") as file:\n",
    "    credentials = yaml.safe_load(file)\n",
    "user = credentials[\"sentinelhub\"][\"API_USER\"]\n",
    "password = credentials[\"sentinelhub\"][\"API_PASSWORD\"]\n",
    "\n",
    "config = SHConfig(sh_client_id=user, sh_client_secret=password)\n",
    "\n",
    "if not config.sh_client_id or not config.sh_client_secret:\n",
    "    print(\n",
    "        \"Warning! To use Process API, please provide the credentials (OAuth client ID and client secret).\"\n",
    "    )"
   ]
  },
  {
   "cell_type": "markdown",
   "metadata": {},
   "source": [
    "### Setup"
   ]
  },
  {
   "cell_type": "code",
   "execution_count": 33,
   "metadata": {},
   "outputs": [],
   "source": [
    "# Bounding box coordinates (you can use http://bboxfinder.com/ to find the coordinates of your desired bounding box)\n",
    "# (-124.45976373769807,48.62786844842075,-115.12341739786068,53.51536369187604)\n",
    "lon_min = -124.45976373769807\n",
    "lat_min = 48.62786844842075\n",
    "lon_max = -115.12341739786068\n",
    "lat_max = 53.51536369187604\n",
    "\n",
    "# Desired spacing in kilometers between each image\n",
    "spacing_km = 100\n",
    "\n",
    "# Desired resolution of each image\n",
    "resolution = 300\n",
    "\n",
    "start_date = \"2021-06-29\"\n",
    "end_date = \"2021-08-30\"\n",
    "\n",
    "sentinel_request_dir = \"../data/sentinel/request\"\n",
    "sentinel_tiff_dir = \"../data/sentinel/tiff\"\n",
    "sentinel_merge_dir = \"../data/sentinel/merge\""
   ]
  },
  {
   "cell_type": "markdown",
   "metadata": {},
   "source": [
    "### Get points and bbox for the selected area"
   ]
  },
  {
   "cell_type": "code",
   "execution_count": 34,
   "metadata": {},
   "outputs": [],
   "source": [
    "points, max_points_in_line, num_lines, points_per_line = (\n",
    "    sentinel.generate_grid_within_box(lat_min, lon_min, lat_max, lon_max, spacing_km)\n",
    ")\n",
    "points = [(y, x) for x, y in points]\n",
    "\n",
    "aoi_bbox_list = []\n",
    "for point in points:\n",
    "    aoi_coords_wgs842 = sentinel.boundingBox(point[0], point[1], spacing_km / 2)\n",
    "    aoi_bbox_list.append(BBox(bbox=aoi_coords_wgs842, crs=CRS.WGS84))\n",
    "\n",
    "aoi_size = bbox_to_dimensions(aoi_bbox_list[0], resolution=resolution)"
   ]
  },
  {
   "cell_type": "markdown",
   "metadata": {},
   "source": [
    "## Print informations"
   ]
  },
  {
   "cell_type": "code",
   "execution_count": 35,
   "metadata": {},
   "outputs": [
    {
     "name": "stdout",
     "output_type": "stream",
     "text": [
      "Number of points per line:  8\n",
      "Number of lines:  6\n",
      "Total number of points generated:  48\n",
      "List of number of points per line:  [8, 8, 8, 8, 8, 8]\n",
      "Image shape at 300 m resolution: (341, 327) pixels\n"
     ]
    }
   ],
   "source": [
    "print(\"Number of points per line: \", max_points_in_line)\n",
    "print(\"Number of lines: \", num_lines)\n",
    "print(\"Total number of points generated: \", len(points))\n",
    "print(\"List of number of points per line: \", points_per_line)\n",
    "print(f\"Image shape at {resolution} m resolution: {aoi_size} pixels\")"
   ]
  },
  {
   "cell_type": "markdown",
   "metadata": {},
   "source": [
    "## Get data"
   ]
  },
  {
   "cell_type": "code",
   "execution_count": 36,
   "metadata": {},
   "outputs": [],
   "source": [
    "# You can chose your evalscript here between evalscript_ndvi, evalscript_ndvi2 and evalscript_CloudFree_Composite:\n",
    "evalscript = evalscripts.evalscript_ndvi\n",
    "\n",
    "ndvi_img_list = []\n",
    "for aoi_bbox in aoi_bbox_list:\n",
    "    ndvi_img = sentinel.get_ndvi_img(\n",
    "        aoi_bbox,\n",
    "        aoi_size,\n",
    "        sentinel_request_dir,\n",
    "        start_date,\n",
    "        end_date,\n",
    "        evalscript,\n",
    "        config,\n",
    "    )\n",
    "    ndvi_img_list.append(ndvi_img)"
   ]
  },
  {
   "cell_type": "markdown",
   "metadata": {},
   "source": [
    "### Concatenation in a tiff file"
   ]
  },
  {
   "cell_type": "code",
   "execution_count": 42,
   "metadata": {},
   "outputs": [
    {
     "ename": "ValueError",
     "evalue": "No .tiff files found in the directory.",
     "output_type": "error",
     "traceback": [
      "\u001b[0;31m---------------------------------------------------------------------------\u001b[0m",
      "\u001b[0;31mValueError\u001b[0m                                Traceback (most recent call last)",
      "Cell \u001b[0;32mIn[42], line 1\u001b[0m\n\u001b[0;32m----> 1\u001b[0m \u001b[43msentinel\u001b[49m\u001b[38;5;241;43m.\u001b[39;49m\u001b[43mconcatenate_tiff_images\u001b[49m\u001b[43m(\u001b[49m\n\u001b[1;32m      2\u001b[0m \u001b[43m    \u001b[49m\u001b[43msentinel_request_dir\u001b[49m\u001b[43m,\u001b[49m\u001b[43m \u001b[49m\u001b[43msentinel_tiff_dir\u001b[49m\u001b[43m,\u001b[49m\u001b[43m \u001b[49m\u001b[43msentinel_merge_dir\u001b[49m\n\u001b[1;32m      3\u001b[0m \u001b[43m)\u001b[49m\n",
      "File \u001b[0;32m~/modis-uptodate/sentinel-utbm/notebooks/../scripts/sentinel.py:218\u001b[0m, in \u001b[0;36mconcatenate_tiff_images\u001b[0;34m(sentinel_request_dir, sentinel_tiff_dir, sentinel_merged_dir)\u001b[0m\n\u001b[1;32m    215\u001b[0m tiff_files \u001b[38;5;241m=\u001b[39m glob\u001b[38;5;241m.\u001b[39mglob(sentinel_request_dir \u001b[38;5;241m+\u001b[39m \u001b[38;5;124m\"\u001b[39m\u001b[38;5;124m/**/*.tiff\u001b[39m\u001b[38;5;124m\"\u001b[39m, recursive\u001b[38;5;241m=\u001b[39m\u001b[38;5;28;01mTrue\u001b[39;00m)\n\u001b[1;32m    217\u001b[0m \u001b[38;5;28;01mif\u001b[39;00m \u001b[38;5;28mlen\u001b[39m(tiff_files) \u001b[38;5;241m==\u001b[39m \u001b[38;5;241m0\u001b[39m:\n\u001b[0;32m--> 218\u001b[0m     \u001b[38;5;28;01mraise\u001b[39;00m \u001b[38;5;167;01mValueError\u001b[39;00m(\u001b[38;5;124m\"\u001b[39m\u001b[38;5;124mNo .tiff files found in the directory.\u001b[39m\u001b[38;5;124m\"\u001b[39m)\n\u001b[1;32m    220\u001b[0m \u001b[38;5;28mprint\u001b[39m(tiff_files)\n\u001b[1;32m    222\u001b[0m \u001b[38;5;28;01mif\u001b[39;00m(\u001b[38;5;129;01mnot\u001b[39;00m os\u001b[38;5;241m.\u001b[39mpath\u001b[38;5;241m.\u001b[39mexists(sentinel_tiff_dir)):\n",
      "\u001b[0;31mValueError\u001b[0m: No .tiff files found in the directory."
     ]
    }
   ],
   "source": [
    "sentinel.concatenate_tiff_images(\n",
    "    sentinel_request_dir, sentinel_tiff_dir, sentinel_merge_dir\n",
    ")"
   ]
  },
  {
   "cell_type": "code",
   "execution_count": 38,
   "metadata": {},
   "outputs": [
    {
     "name": "stdout",
     "output_type": "stream",
     "text": [
      "['../data/sentinel/request/ada8d995d2dcf0f78c5450530ab0b0c2/response.tiff', '../data/sentinel/request/447b3775bba57a14601383d0dc218b5b/response.tiff', '../data/sentinel/request/077e1500619362684f477fe314be0595/response.tiff', '../data/sentinel/request/0f7777878e89d677345832d076ce7be3/response.tiff', '../data/sentinel/request/e40141db0556210f9d4b375a35176106/response.tiff', '../data/sentinel/request/b75dd3b0344774354f8fc7409f5e14de/response.tiff', '../data/sentinel/request/3e1fbd8aab47c1b51eacce0f230c439e/response.tiff', '../data/sentinel/request/3b7de7e0c84be8573726fffe7f5b1ff4/response.tiff', '../data/sentinel/request/13e788c634ecba9cc050d3569f7956b0/response.tiff', '../data/sentinel/request/384bd15376d4ee99a060f5447fb937ce/response.tiff', '../data/sentinel/request/97b3bf7ec797e96ff87c8e5aa1b6f373/response.tiff', '../data/sentinel/request/af68269495fa0165880eb3a8de00f780/response.tiff', '../data/sentinel/request/e89db5f61c0c624780860f5d6f3edd7c/response.tiff', '../data/sentinel/request/f8a6a7a34ef902409c04aa4ec7a41d8b/response.tiff', '../data/sentinel/request/0a74db8928e3faa7b8047d29b07b121f/response.tiff', '../data/sentinel/request/0d772c437a90bfcc8bb3adeb252ecc38/response.tiff', '../data/sentinel/request/04cbf71fdefc09a74f2713289e2d67d7/response.tiff', '../data/sentinel/request/044c3ac0d88ad2caea9d4dbbfbcb8e2c/response.tiff', '../data/sentinel/request/3b30887eedc591fec0a79a8afd0714b7/response.tiff', '../data/sentinel/request/43e8a73e7533542cde3d056c4e66b34a/response.tiff', '../data/sentinel/request/eb5462e62db46b6a171053acefc593fe/response.tiff', '../data/sentinel/request/3c3cbde94c9ccbd9b069644c320cb60d/response.tiff', '../data/sentinel/request/190556a8027c9bcd61665623b7aab61d/response.tiff', '../data/sentinel/request/4c16022ed81c135c2f59b6252fa2f8ca/response.tiff', '../data/sentinel/request/abcd5c3bf44691371b6741f233ad9896/response.tiff', '../data/sentinel/request/83e41a806b15fcf32e44eeefe3c7b61a/response.tiff', '../data/sentinel/request/28ba28ba642aa079855880d545dadbae/response.tiff', '../data/sentinel/request/5018d8bbedaace7ffb9ed98f7b707548/response.tiff', '../data/sentinel/request/3e284138538fba67637f3da1caa3a0ba/response.tiff', '../data/sentinel/request/a5c19f3d403fada085038a1c65479b1c/response.tiff', '../data/sentinel/request/86d76c617c14426cf8600f3a2a7a259f/response.tiff', '../data/sentinel/request/eb9aa6cbc254c33c3607d59d25478b4c/response.tiff', '../data/sentinel/request/60897f5b6464dc9e34ea9d2cf97b83a6/response.tiff', '../data/sentinel/request/9d365625714fbf48e37580c3e94429a8/response.tiff', '../data/sentinel/request/8609fcb7b9aac9fbc63c06511710fe1c/response.tiff', '../data/sentinel/request/f3488f3e6b0331364dfdbff80da31d7f/response.tiff', '../data/sentinel/request/c24c176b2393d47d92ddab16501279d2/response.tiff', '../data/sentinel/request/deb6caf39fa2f895789c00c993b17714/response.tiff', '../data/sentinel/request/ca6ac172775a336442bb2fc35dabb683/response.tiff', '../data/sentinel/request/d9facf89b31267ac7b372a95066c1609/response.tiff', '../data/sentinel/request/41d46674b486f0c5b7b6bcac385be559/response.tiff', '../data/sentinel/request/f2535dda3057e0550e7e0a8eb776eafe/response.tiff', '../data/sentinel/request/954881093c0359d494c8b096ca419432/response.tiff', '../data/sentinel/request/7edaa6beb2839f80705b460837320459/response.tiff', '../data/sentinel/request/a2c88ae2a6927593aaf130febec87154/response.tiff', '../data/sentinel/request/69275a07bc44b99e5fc8cc582dd3478a/response.tiff', '../data/sentinel/request/34bde4b764763be50998834749d80b3d/response.tiff', '../data/sentinel/request/b968a73bc2d874d809b09978553bc0cb/response.tiff']\n",
      "----------INFO----------\n",
      "Metadata: {'AREA_OR_POINT': 'Area', 'TIFFTAG_RESOLUTIONUNIT': '1 (unitless)', 'TIFFTAG_XRESOLUTION': '1', 'TIFFTAG_YRESOLUTION': '1'}\n",
      "Geotransform: (-125.20135360078045, 0.004349500663239693, 0.0, 53.080823687447214, 0.0, -0.0027529533533258333)\n",
      "Projection: GEOGCS[\"WGS 84\",DATUM[\"World Geodetic System 1984\",SPHEROID[\"WGS 84\",6378137,298.257223563]],PRIMEM[\"Greenwich\",0],UNIT[\"degree\",0.0174532925199433,AUTHORITY[\"EPSG\",\"9122\"]],AXIS[\"Latitude\",NORTH],AXIS[\"Longitude\",EAST]]\n"
     ]
    },
    {
     "name": "stderr",
     "output_type": "stream",
     "text": [
      "[ WARN:0@727.299] global loadsave.cpp:241 findDecoder imread_('../data/sentinel/request/ada8d995d2dcf0f78c5450530ab0b0c2/response.tiff'): can't open/read file: check file path/integrity\n",
      "[ WARN:0@727.299] global loadsave.cpp:241 findDecoder imread_('../data/sentinel/request/447b3775bba57a14601383d0dc218b5b/response.tiff'): can't open/read file: check file path/integrity\n",
      "[ WARN:0@727.299] global loadsave.cpp:241 findDecoder imread_('../data/sentinel/request/077e1500619362684f477fe314be0595/response.tiff'): can't open/read file: check file path/integrity\n",
      "[ WARN:0@727.299] global loadsave.cpp:241 findDecoder imread_('../data/sentinel/request/0f7777878e89d677345832d076ce7be3/response.tiff'): can't open/read file: check file path/integrity\n",
      "[ WARN:0@727.299] global loadsave.cpp:241 findDecoder imread_('../data/sentinel/request/e40141db0556210f9d4b375a35176106/response.tiff'): can't open/read file: check file path/integrity\n",
      "[ WARN:0@727.299] global loadsave.cpp:241 findDecoder imread_('../data/sentinel/request/b75dd3b0344774354f8fc7409f5e14de/response.tiff'): can't open/read file: check file path/integrity\n",
      "[ WARN:0@727.299] global loadsave.cpp:241 findDecoder imread_('../data/sentinel/request/3e1fbd8aab47c1b51eacce0f230c439e/response.tiff'): can't open/read file: check file path/integrity\n",
      "[ WARN:0@727.299] global loadsave.cpp:241 findDecoder imread_('../data/sentinel/request/3b7de7e0c84be8573726fffe7f5b1ff4/response.tiff'): can't open/read file: check file path/integrity\n",
      "[ WARN:0@727.299] global loadsave.cpp:241 findDecoder imread_('../data/sentinel/request/13e788c634ecba9cc050d3569f7956b0/response.tiff'): can't open/read file: check file path/integrity\n",
      "[ WARN:0@727.299] global loadsave.cpp:241 findDecoder imread_('../data/sentinel/request/384bd15376d4ee99a060f5447fb937ce/response.tiff'): can't open/read file: check file path/integrity\n",
      "[ WARN:0@727.299] global loadsave.cpp:241 findDecoder imread_('../data/sentinel/request/97b3bf7ec797e96ff87c8e5aa1b6f373/response.tiff'): can't open/read file: check file path/integrity\n",
      "[ WARN:0@727.299] global loadsave.cpp:241 findDecoder imread_('../data/sentinel/request/af68269495fa0165880eb3a8de00f780/response.tiff'): can't open/read file: check file path/integrity\n",
      "[ WARN:0@727.299] global loadsave.cpp:241 findDecoder imread_('../data/sentinel/request/e89db5f61c0c624780860f5d6f3edd7c/response.tiff'): can't open/read file: check file path/integrity\n",
      "[ WARN:0@727.299] global loadsave.cpp:241 findDecoder imread_('../data/sentinel/request/f8a6a7a34ef902409c04aa4ec7a41d8b/response.tiff'): can't open/read file: check file path/integrity\n",
      "[ WARN:0@727.299] global loadsave.cpp:241 findDecoder imread_('../data/sentinel/request/0a74db8928e3faa7b8047d29b07b121f/response.tiff'): can't open/read file: check file path/integrity\n",
      "[ WARN:0@727.299] global loadsave.cpp:241 findDecoder imread_('../data/sentinel/request/0d772c437a90bfcc8bb3adeb252ecc38/response.tiff'): can't open/read file: check file path/integrity\n",
      "[ WARN:0@727.299] global loadsave.cpp:241 findDecoder imread_('../data/sentinel/request/04cbf71fdefc09a74f2713289e2d67d7/response.tiff'): can't open/read file: check file path/integrity\n",
      "[ WARN:0@727.299] global loadsave.cpp:241 findDecoder imread_('../data/sentinel/request/044c3ac0d88ad2caea9d4dbbfbcb8e2c/response.tiff'): can't open/read file: check file path/integrity\n",
      "[ WARN:0@727.299] global loadsave.cpp:241 findDecoder imread_('../data/sentinel/request/3b30887eedc591fec0a79a8afd0714b7/response.tiff'): can't open/read file: check file path/integrity\n",
      "[ WARN:0@727.299] global loadsave.cpp:241 findDecoder imread_('../data/sentinel/request/43e8a73e7533542cde3d056c4e66b34a/response.tiff'): can't open/read file: check file path/integrity\n",
      "[ WARN:0@727.299] global loadsave.cpp:241 findDecoder imread_('../data/sentinel/request/eb5462e62db46b6a171053acefc593fe/response.tiff'): can't open/read file: check file path/integrity\n",
      "[ WARN:0@727.299] global loadsave.cpp:241 findDecoder imread_('../data/sentinel/request/3c3cbde94c9ccbd9b069644c320cb60d/response.tiff'): can't open/read file: check file path/integrity\n",
      "[ WARN:0@727.299] global loadsave.cpp:241 findDecoder imread_('../data/sentinel/request/190556a8027c9bcd61665623b7aab61d/response.tiff'): can't open/read file: check file path/integrity\n",
      "[ WARN:0@727.299] global loadsave.cpp:241 findDecoder imread_('../data/sentinel/request/4c16022ed81c135c2f59b6252fa2f8ca/response.tiff'): can't open/read file: check file path/integrity\n",
      "[ WARN:0@727.299] global loadsave.cpp:241 findDecoder imread_('../data/sentinel/request/abcd5c3bf44691371b6741f233ad9896/response.tiff'): can't open/read file: check file path/integrity\n",
      "[ WARN:0@727.299] global loadsave.cpp:241 findDecoder imread_('../data/sentinel/request/83e41a806b15fcf32e44eeefe3c7b61a/response.tiff'): can't open/read file: check file path/integrity\n",
      "[ WARN:0@727.299] global loadsave.cpp:241 findDecoder imread_('../data/sentinel/request/28ba28ba642aa079855880d545dadbae/response.tiff'): can't open/read file: check file path/integrity\n",
      "[ WARN:0@727.299] global loadsave.cpp:241 findDecoder imread_('../data/sentinel/request/5018d8bbedaace7ffb9ed98f7b707548/response.tiff'): can't open/read file: check file path/integrity\n",
      "[ WARN:0@727.299] global loadsave.cpp:241 findDecoder imread_('../data/sentinel/request/3e284138538fba67637f3da1caa3a0ba/response.tiff'): can't open/read file: check file path/integrity\n",
      "[ WARN:0@727.299] global loadsave.cpp:241 findDecoder imread_('../data/sentinel/request/a5c19f3d403fada085038a1c65479b1c/response.tiff'): can't open/read file: check file path/integrity\n",
      "[ WARN:0@727.299] global loadsave.cpp:241 findDecoder imread_('../data/sentinel/request/86d76c617c14426cf8600f3a2a7a259f/response.tiff'): can't open/read file: check file path/integrity\n",
      "[ WARN:0@727.300] global loadsave.cpp:241 findDecoder imread_('../data/sentinel/request/eb9aa6cbc254c33c3607d59d25478b4c/response.tiff'): can't open/read file: check file path/integrity\n",
      "[ WARN:0@727.300] global loadsave.cpp:241 findDecoder imread_('../data/sentinel/request/60897f5b6464dc9e34ea9d2cf97b83a6/response.tiff'): can't open/read file: check file path/integrity\n",
      "[ WARN:0@727.300] global loadsave.cpp:241 findDecoder imread_('../data/sentinel/request/9d365625714fbf48e37580c3e94429a8/response.tiff'): can't open/read file: check file path/integrity\n",
      "[ WARN:0@727.300] global loadsave.cpp:241 findDecoder imread_('../data/sentinel/request/8609fcb7b9aac9fbc63c06511710fe1c/response.tiff'): can't open/read file: check file path/integrity\n",
      "[ WARN:0@727.300] global loadsave.cpp:241 findDecoder imread_('../data/sentinel/request/f3488f3e6b0331364dfdbff80da31d7f/response.tiff'): can't open/read file: check file path/integrity\n",
      "[ WARN:0@727.300] global loadsave.cpp:241 findDecoder imread_('../data/sentinel/request/c24c176b2393d47d92ddab16501279d2/response.tiff'): can't open/read file: check file path/integrity\n",
      "[ WARN:0@727.300] global loadsave.cpp:241 findDecoder imread_('../data/sentinel/request/deb6caf39fa2f895789c00c993b17714/response.tiff'): can't open/read file: check file path/integrity\n",
      "[ WARN:0@727.300] global loadsave.cpp:241 findDecoder imread_('../data/sentinel/request/ca6ac172775a336442bb2fc35dabb683/response.tiff'): can't open/read file: check file path/integrity\n",
      "[ WARN:0@727.300] global loadsave.cpp:241 findDecoder imread_('../data/sentinel/request/d9facf89b31267ac7b372a95066c1609/response.tiff'): can't open/read file: check file path/integrity\n",
      "[ WARN:0@727.300] global loadsave.cpp:241 findDecoder imread_('../data/sentinel/request/41d46674b486f0c5b7b6bcac385be559/response.tiff'): can't open/read file: check file path/integrity\n",
      "[ WARN:0@727.300] global loadsave.cpp:241 findDecoder imread_('../data/sentinel/request/f2535dda3057e0550e7e0a8eb776eafe/response.tiff'): can't open/read file: check file path/integrity\n",
      "[ WARN:0@727.300] global loadsave.cpp:241 findDecoder imread_('../data/sentinel/request/954881093c0359d494c8b096ca419432/response.tiff'): can't open/read file: check file path/integrity\n",
      "[ WARN:0@727.300] global loadsave.cpp:241 findDecoder imread_('../data/sentinel/request/7edaa6beb2839f80705b460837320459/response.tiff'): can't open/read file: check file path/integrity\n",
      "[ WARN:0@727.300] global loadsave.cpp:241 findDecoder imread_('../data/sentinel/request/a2c88ae2a6927593aaf130febec87154/response.tiff'): can't open/read file: check file path/integrity\n",
      "[ WARN:0@727.300] global loadsave.cpp:241 findDecoder imread_('../data/sentinel/request/69275a07bc44b99e5fc8cc582dd3478a/response.tiff'): can't open/read file: check file path/integrity\n",
      "[ WARN:0@727.300] global loadsave.cpp:241 findDecoder imread_('../data/sentinel/request/34bde4b764763be50998834749d80b3d/response.tiff'): can't open/read file: check file path/integrity\n",
      "[ WARN:0@727.300] global loadsave.cpp:241 findDecoder imread_('../data/sentinel/request/b968a73bc2d874d809b09978553bc0cb/response.tiff'): can't open/read file: check file path/integrity\n"
     ]
    },
    {
     "data": {
      "text/plain": [
       "'../data/sentinel/merge/merged_image_3.tiff'"
      ]
     },
     "execution_count": 38,
     "metadata": {},
     "output_type": "execute_result"
    }
   ],
   "source": [
    "sentinel.create_stitched_image(\n",
    "    lat_min,\n",
    "    lon_min,\n",
    "    lat_max,\n",
    "    lon_max,\n",
    "    spacing_km,\n",
    "    resolution,\n",
    "    start_date,\n",
    "    end_date,\n",
    "    evalscripts.evalscript_ndvi,\n",
    "    config,\n",
    "    sentinel_request_dir,\n",
    "    sentinel_tiff_dir,\n",
    "    sentinel_merge_dir,\n",
    ")"
   ]
  }
 ],
 "metadata": {
  "kernelspec": {
   "display_name": "sentinel-utbm-2H4QEkUg-py3.12",
   "language": "python",
   "name": "python3"
  },
  "language_info": {
   "codemirror_mode": {
    "name": "ipython",
    "version": 3
   },
   "file_extension": ".py",
   "mimetype": "text/x-python",
   "name": "python",
   "nbconvert_exporter": "python",
   "pygments_lexer": "ipython3",
   "version": "3.12.2"
  }
 },
 "nbformat": 4,
 "nbformat_minor": 2
}
