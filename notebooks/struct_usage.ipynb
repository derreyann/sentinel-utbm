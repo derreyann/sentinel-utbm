{
 "cells": [
  {
   "cell_type": "markdown",
   "metadata": {},
   "source": [
    "### Imports"
   ]
  },
  {
   "cell_type": "code",
   "execution_count": 5,
   "metadata": {},
   "outputs": [],
   "source": [
    "import sys\n",
    "sys.path.append('../scripts')\n",
    "\n",
    "import datetime\n",
    "from data_structure import Event as FireEvent\n",
    "\n",
    "import earthpy.plot as ep\n",
    "import rasterio\n",
    "import rioxarray as rxr"
   ]
  },
  {
   "cell_type": "markdown",
   "metadata": {},
   "source": [
    "### Setup"
   ]
  },
  {
   "cell_type": "code",
   "execution_count": 2,
   "metadata": {},
   "outputs": [],
   "source": [
    "# Australia event\n",
    "start_date = datetime.date(year=2020, month=5, day=25)\n",
    "end_date = datetime.date(year=2020, month=7, day=15) \n",
    "event = FireEvent(start_date, end_date, -36.557307387236094, 149.11827128891002)"
   ]
  },
  {
   "cell_type": "markdown",
   "metadata": {},
   "source": [
    "# Fetching data"
   ]
  },
  {
   "cell_type": "code",
   "execution_count": 3,
   "metadata": {},
   "outputs": [
    {
     "data": {
      "text/plain": [
       "['../data/modis/final/MOD14A1.A2020177.h29v12.061.2020340081657.fire.cropped.resized.tif']"
      ]
     },
     "execution_count": 3,
     "metadata": {},
     "output_type": "execute_result"
    }
   ],
   "source": [
    "event.get_modis_data()\n",
    "event.modis_path"
   ]
  },
  {
   "cell_type": "code",
   "execution_count": 4,
   "metadata": {},
   "outputs": [
    {
     "data": {
      "image/png": "[encoded data removed]",
      "text/plain": [
       "<Figure size 1000x1000 with 2 Axes>"
      ]
     },
     "metadata": {},
     "output_type": "display_data"
    },
    {
     "data": {
      "text/plain": [
       "<Axes: title={'center': 'Fire'}>"
      ]
     },
     "execution_count": 4,
     "metadata": {},
     "output_type": "execute_result"
    }
   ],
   "source": [
    "# Open the first available file\n",
    "modis = rasterio.open(event.modis_path[0])\n",
    "ep.plot_bands(modis.read(1), title=\"Fire\", cmap=\"YlOrRd\", figsize=(10, 10))"
   ]
  },
  {
   "cell_type": "code",
   "execution_count": 6,
   "metadata": {},
   "outputs": [
    {
     "data": {
      "text/plain": [
       "[['../data/modis/final/MOD14A1.A2020177.h29v12.061.2020340081657.fire.cropped.resized.tif.tavg',\n",
       "  '../data/modis/final/MOD14A1.A2020177.h29v12.061.2020340081657.fire.cropped.resized.tif.prcp',\n",
       "  '../data/modis/final/MOD14A1.A2020177.h29v12.061.2020340081657.fire.cropped.resized.tif.wspd',\n",
       "  '../data/modis/final/MOD14A1.A2020177.h29v12.061.2020340081657.fire.cropped.resized.tif.sin_wdir',\n",
       "  '../data/modis/final/MOD14A1.A2020177.h29v12.061.2020340081657.fire.cropped.resized.tif.cos_wdir']]"
      ]
     },
     "execution_count": 6,
     "metadata": {},
     "output_type": "execute_result"
    }
   ],
   "source": [
    "event.get_weather_data()\n",
    "event.weather_path"
   ]
  },
  {
   "cell_type": "code",
   "execution_count": null,
   "metadata": {},
   "outputs": [],
   "source": [
    "# Open the raster files\n",
    "tavg_tiff = rxr.open_rasterio(event.weather_path[0])\n",
    "prcp_tiff = rxr.open_rasterio(event.weather_path[1])\n",
    "wspd_tiff = rxr.open_rasterio(event.weather_path[2])\n",
    "cos_wdir_tiff = rxr.open_rasterio(event.weather_path[3])\n",
    "sin_wdir_tiff = rxr.open_rasterio(event.weather_path[4])\n",
    "\n",
    "\n",
    "\n",
    "print(\"Temperature: \", tavg_tiff.shape)\n",
    "print(\"Precipitation: \", prcp_tiff.shape)\n",
    "print(\"Wind Direction: \", wspd_tiff.shape)\n",
    "print(\"Wind Speed: \", cos_wdir_tiff.shape)\n",
    "print(\"Wind Speed: \", sin_wdir_tiff.shape)\n",
    "\n",
    "\n",
    "# Open the raster files\n",
    "tavg_tiff = rasterio.open(event.weather_path[0)\n",
    "prcp_tiff = rasterio.open(event.weather_path[0)\n",
    "wdir_tiff = rasterio.open(event.weather_path[0)\n",
    "wspd_tiff = rasterio.open(event.weather_path[0)\n",
    "wspd_tiff = rasterio.open(event.weather_path[0)\n",
    "\n",
    "\n",
    "# Plot the data\n",
    "fig, axs = plt.subplots(2, 2, figsize=(20, 20))\n",
    "axs = axs.ravel()\n",
    "\n",
    "# Plot the temperature\n",
    "axs[0].imshow(tavg_tiff.read(1), cmap=\"coolwarm\")\n",
    "axs[0].set_title(\"Temperature\")\n",
    "axs[0].axis(\"off\")\n",
    "\n",
    "# Plot the precipitation\n",
    "axs[1].imshow(prcp_tiff.read(1))\n",
    "axs[1].set_title(\"Precipitation\")\n",
    "axs[1].axis(\"off\")\n",
    "\n",
    "axs[2].imshow(wdir_tiff.read(1), cmap=\"hsv\")\n",
    "axs[2].set_title(\"Wind Direction\")\n",
    "axs[2].axis(\"off\")\n",
    "\n",
    "axs[3].imshow(wspd_tiff.read(1), cmap=\"hot\")\n",
    "axs[3].set_title(\"Wind Speed\")\n",
    "axs[3].axis(\"off\")\n",
    "\n",
    "plt.show()"
   ]
  },
  {
   "cell_type": "code",
   "execution_count": null,
   "metadata": {},
   "outputs": [],
   "source": [
    "event.get_sentinel_data()\n",
    "event.sentinel_path"
   ]
  },
  {
   "cell_type": "code",
   "execution_count": null,
   "metadata": {},
   "outputs": [],
   "source": []
  },
  {
   "cell_type": "code",
   "execution_count": null,
   "metadata": {},
   "outputs": [],
   "source": [
    "tensor = event.create_tensor_from_tiffs()\n",
    "tensor.shape"
   ]
  }
 ],
 "metadata": {
  "kernelspec": {
   "display_name": "sentinel-utbm-2H4QEkUg-py3.12",
   "language": "python",
   "name": "python3"
  },
  "language_info": {
   "codemirror_mode": {
    "name": "ipython",
    "version": 3
   },
   "file_extension": ".py",
   "mimetype": "text/x-python",
   "name": "python",
   "nbconvert_exporter": "python",
   "pygments_lexer": "ipython3",
   "version": "3.12.3"
  }
 },
 "nbformat": 4,
 "nbformat_minor": 2
}
