{
 "cells": [
  {
   "cell_type": "markdown",
   "metadata": {},
   "source": [
    "### Imports"
   ]
  },
  {
   "cell_type": "code",
   "execution_count": 1,
   "metadata": {},
   "outputs": [
    {
     "name": "stderr",
     "output_type": "stream",
     "text": [
      "TqdmWarning: IProgress not found. Please update jupyter and ipywidgets. See https://ipywidgets.readthedocs.io/en/stable/user_install.html\n"
     ]
    }
   ],
   "source": [
    "import sys\n",
    "sys.path.append('../scripts')\n",
    "\n",
    "import datetime\n",
    "from data_structure import Event as FireEvent"
   ]
  },
  {
   "cell_type": "markdown",
   "metadata": {},
   "source": [
    "### Setup"
   ]
  },
  {
   "cell_type": "code",
   "execution_count": 2,
   "metadata": {},
   "outputs": [],
   "source": [
    "# Australia event\n",
    "start_date = datetime.date(year=2020, month=5, day=25)\n",
    "end_date = datetime.date(year=2020, month=7, day=15) \n",
    "event = FireEvent(start_date, end_date, -36.557307387236094, 149.11827128891002)"
   ]
  },
  {
   "cell_type": "code",
   "execution_count": null,
   "metadata": {},
   "outputs": [],
   "source": []
  },
  {
   "cell_type": "code",
   "execution_count": 3,
   "metadata": {},
   "outputs": [],
   "source": [
    "event.get_modis_data()"
   ]
  },
  {
   "cell_type": "code",
   "execution_count": 4,
   "metadata": {},
   "outputs": [
    {
     "data": {
      "text/plain": [
       "['../data/modis/final/MOD14A1.A2020177.h29v12.061.2020340081657.fire.cropped.resized.tif']"
      ]
     },
     "execution_count": 4,
     "metadata": {},
     "output_type": "execute_result"
    }
   ],
   "source": [
    "event.modis_path"
   ]
  },
  {
   "cell_type": "code",
   "execution_count": 6,
   "metadata": {},
   "outputs": [],
   "source": [
    "event.get_weather_data()"
   ]
  },
  {
   "cell_type": "code",
   "execution_count": 7,
   "metadata": {},
   "outputs": [
    {
     "data": {
      "text/plain": [
       "[['../data/modis/final/MOD14A1.A2020177.h29v12.061.2020340081657.fire.cropped.resized.tif.tavg',\n",
       "  '../data/modis/final/MOD14A1.A2020177.h29v12.061.2020340081657.fire.cropped.resized.tif.prcp',\n",
       "  '../data/modis/final/MOD14A1.A2020177.h29v12.061.2020340081657.fire.cropped.resized.tif.wspd',\n",
       "  '../data/modis/final/MOD14A1.A2020177.h29v12.061.2020340081657.fire.cropped.resized.tif.sin_wdir',\n",
       "  '../data/modis/final/MOD14A1.A2020177.h29v12.061.2020340081657.fire.cropped.resized.tif.cos_wdir']]"
      ]
     },
     "execution_count": 7,
     "metadata": {},
     "output_type": "execute_result"
    }
   ],
   "source": [
    "event.weather_path"
   ]
  },
  {
   "cell_type": "code",
   "execution_count": 8,
   "metadata": {},
   "outputs": [],
   "source": [
    "event.get_sentinel_data()"
   ]
  },
  {
   "cell_type": "code",
   "execution_count": 9,
   "metadata": {},
   "outputs": [
    {
     "data": {
      "text/plain": [
       "['../data/sentinel/final/h29v12_2020-06-25_2020-07-02.tiff']"
      ]
     },
     "execution_count": 9,
     "metadata": {},
     "output_type": "execute_result"
    }
   ],
   "source": [
    "event.sentinel_path"
   ]
  },
  {
   "cell_type": "code",
   "execution_count": 10,
   "metadata": {},
   "outputs": [
    {
     "data": {
      "text/plain": [
       "['../data/modis/final/MOD14A1.A2020177.h29v12.061.2020340081657.fire.cropped.resized.tif',\n",
       " ['../data/modis/final/MOD14A1.A2020177.h29v12.061.2020340081657.fire.cropped.resized.tif.tavg',\n",
       "  '../data/modis/final/MOD14A1.A2020177.h29v12.061.2020340081657.fire.cropped.resized.tif.prcp',\n",
       "  '../data/modis/final/MOD14A1.A2020177.h29v12.061.2020340081657.fire.cropped.resized.tif.wspd',\n",
       "  '../data/modis/final/MOD14A1.A2020177.h29v12.061.2020340081657.fire.cropped.resized.tif.sin_wdir',\n",
       "  '../data/modis/final/MOD14A1.A2020177.h29v12.061.2020340081657.fire.cropped.resized.tif.cos_wdir'],\n",
       " ['../data/sentinel/final/h29v12_2020-06-25_2020-07-02.resized.tiff']]"
      ]
     },
     "execution_count": 10,
     "metadata": {},
     "output_type": "execute_result"
    }
   ],
   "source": [
    "tiff_paths = event.get_all_tiff_paths()\n",
    "tiff_paths"
   ]
  },
  {
   "cell_type": "code",
   "execution_count": 11,
   "metadata": {},
   "outputs": [
    {
     "data": {
      "text/plain": [
       "[['../data/modis/final/MOD14A1.A2020177.h29v12.061.2020340081657.fire.cropped.resized.tif',\n",
       "  '../data/modis/final/MOD14A1.A2020177.h29v12.061.2020340081657.fire.cropped.resized.tif.tavg',\n",
       "  '../data/modis/final/MOD14A1.A2020177.h29v12.061.2020340081657.fire.cropped.resized.tif.prcp',\n",
       "  '../data/modis/final/MOD14A1.A2020177.h29v12.061.2020340081657.fire.cropped.resized.tif.wspd',\n",
       "  '../data/modis/final/MOD14A1.A2020177.h29v12.061.2020340081657.fire.cropped.resized.tif.sin_wdir',\n",
       "  '../data/modis/final/MOD14A1.A2020177.h29v12.061.2020340081657.fire.cropped.resized.tif.cos_wdir',\n",
       "  '../data/sentinel/final/h29v12_2020-06-25_2020-07-02.resized.tiff']]"
      ]
     },
     "execution_count": 11,
     "metadata": {},
     "output_type": "execute_result"
    }
   ],
   "source": [
    "def get_all_tiff_paths(self) -> list[list[str]]:\n",
    "    \"\"\"\n",
    "    Gets all the TIFF file paths from the MODIS, weather, and Sentinel data, \n",
    "    separated by 8-day periods.\n",
    "\n",
    "    Returns:\n",
    "    list of list of str: List of lists, each containing file paths for an 8-day period.\n",
    "    \"\"\"\n",
    "\n",
    "    # Get the number of 8-day periods\n",
    "    num_periods = len(self.modis_path)\n",
    "    tiff_paths_by_period = []\n",
    "    # Loop over each period\n",
    "    for i in range(num_periods):\n",
    "        period_paths = []\n",
    "        period_paths.append(self.modis_path[i])\n",
    "        period_paths.extend(self.weather_path[i])\n",
    "        period_paths.append(self.sentinel_resized_path[i])\n",
    "        tiff_paths_by_period.append(period_paths)\n",
    "    return tiff_paths_by_period\n"
   ]
  }
 ],
 "metadata": {
  "kernelspec": {
   "display_name": "sentinel-utbm-2H4QEkUg-py3.12",
   "language": "python",
   "name": "python3"
  },
  "language_info": {
   "codemirror_mode": {
    "name": "ipython",
    "version": 3
   },
   "file_extension": ".py",
   "mimetype": "text/x-python",
   "name": "python",
   "nbconvert_exporter": "python",
   "pygments_lexer": "ipython3",
   "version": "3.12.3"
  }
 },
 "nbformat": 4,
 "nbformat_minor": 2
}
