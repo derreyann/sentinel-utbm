{
 "cells": [
  {
   "cell_type": "markdown",
   "metadata": {},
   "source": [
    "### Imports"
   ]
  },
  {
   "cell_type": "code",
   "execution_count": null,
   "metadata": {},
   "outputs": [],
   "source": [
    "import os\n",
    "import sys\n",
    "sys.path.append('../scripts')\n",
    "\n",
    "import modis\n",
    "import utils\n",
    "\n",
    "import rasterio\n",
    "import rioxarray as rxr\n",
    "import earthpy.plot as ep\n"
   ]
  },
  {
   "cell_type": "markdown",
   "metadata": {},
   "source": [
    "### Setup"
   ]
  },
  {
   "cell_type": "code",
   "execution_count": null,
   "metadata": {},
   "outputs": [],
   "source": [
    "raw_dir = \"../data/modis\"\n",
    "filename = \"MOD14A1.A2021209.h10v03.061.2021218013045.hdf\"\n",
    "processing_dir = \"../data/modis/processing\"\n",
    "file_path = os.path.join(raw_dir, filename)"
   ]
  },
  {
   "cell_type": "markdown",
   "metadata": {},
   "source": [
    "### Extracting the fire mask"
   ]
  },
  {
   "cell_type": "code",
   "execution_count": null,
   "metadata": {},
   "outputs": [],
   "source": [
    "firemask, dates, fire_filename = modis.extract_fire_mask(file_path)\n"
   ]
  },
  {
   "cell_type": "code",
   "execution_count": null,
   "metadata": {},
   "outputs": [],
   "source": [
    "fire = rasterio.open(fire_filename)\n",
    "ep.plot_bands(fire.read(1), title=\"Fire\", cmap=\"YlOrRd\", figsize=(10, 10))"
   ]
  },
  {
   "cell_type": "markdown",
   "metadata": {},
   "source": [
    "### Cropping based on a bounding box"
   ]
  },
  {
   "cell_type": "code",
   "execution_count": null,
   "metadata": {},
   "outputs": [],
   "source": [
    "coords, pixels = modis.get_coords_and_pixels(fire)\n",
    "bbox_coords = utils.create_bounding_box(coords)\n",
    "modis_cropped_path = modis.crop(fire_filename, bbox_coords)"
   ]
  },
  {
   "cell_type": "code",
   "execution_count": null,
   "metadata": {},
   "outputs": [],
   "source": [
    "# open the cropped MODIS image\n",
    "cropped_modis = rasterio.open(modis_cropped_path)\n",
    "\n",
    "# Plot the clipped MODIS image\n",
    "ep.plot_bands(cropped_modis.read(1) > 6, title=\"Clipped MODIS Image\", cmap=\"YlOrRd\")"
   ]
  },
  {
   "cell_type": "markdown",
   "metadata": {},
   "source": [
    "### Resizing the modis file"
   ]
  },
  {
   "cell_type": "code",
   "execution_count": null,
   "metadata": {},
   "outputs": [],
   "source": [
    "file = modis.resize(modis_cropped_path)"
   ]
  },
  {
   "cell_type": "code",
   "execution_count": null,
   "metadata": {},
   "outputs": [],
   "source": [
    "# Open the resized MODIS image\n",
    "tiff_file = rxr.open_rasterio(file)\n",
    "tiff_file.shape"
   ]
  }
 ],
 "metadata": {
  "kernelspec": {
   "display_name": "sentinel-utbm-2H4QEkUg-py3.12",
   "language": "python",
   "name": "python3"
  },
  "language_info": {
   "codemirror_mode": {
    "name": "ipython",
    "version": 3
   },
   "file_extension": ".py",
   "mimetype": "text/x-python",
   "name": "python",
   "nbconvert_exporter": "python",
   "pygments_lexer": "ipython3",
   "version": "3.12.3"
  }
 },
 "nbformat": 4,
 "nbformat_minor": 2
}
